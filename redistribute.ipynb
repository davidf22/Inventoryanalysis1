{
  "nbformat": 4,
  "nbformat_minor": 0,
  "metadata": {
    "colab": {
      "provenance": [],
      "authorship_tag": "ABX9TyM7jZt+DnKKMVzfNEQei6EO",
      "include_colab_link": true
    },
    "kernelspec": {
      "name": "python3",
      "display_name": "Python 3"
    },
    "language_info": {
      "name": "python"
    }
  },
  "cells": [
    {
      "cell_type": "markdown",
      "metadata": {
        "id": "view-in-github",
        "colab_type": "text"
      },
      "source": [
        "<a href=\"https://colab.research.google.com/github/davidf22/Inventoryanalysis1/blob/main/redistribute.ipynb\" target=\"_parent\"><img src=\"https://colab.research.google.com/assets/colab-badge.svg\" alt=\"Open In Colab\"/></a>"
      ]
    },
    {
      "cell_type": "code",
      "execution_count": null,
      "metadata": {
        "id": "vt3GHr7UWGVW"
      },
      "outputs": [],
      "source": [
        "import numpy as np\n",
        "import pandas as pd\n",
        "import matplotlib.pyplot as plt"
      ]
    },
    {
      "cell_type": "code",
      "source": [
        "df2 = pd.read_csv(\"products.csv\", on_bad_lines='skip')\n",
        "\n"
      ],
      "metadata": {
        "id": "Ndw_4TvCcweV"
      },
      "execution_count": null,
      "outputs": []
    },
    {
      "cell_type": "code",
      "source": [
        "df2 = pd.read_csv('products.csv', sep=';', quotechar='\"')\n",
        "\n"
      ],
      "metadata": {
        "id": "N-WHBdWIjEV3"
      },
      "execution_count": null,
      "outputs": []
    },
    {
      "cell_type": "code",
      "source": [
        "print(\"\\nData types in the DataFrame:\")\n",
        "print(df2.dtypes)"
      ],
      "metadata": {
        "colab": {
          "base_uri": "https://localhost:8080/"
        },
        "collapsed": true,
        "id": "d5zMCP-Sd2u3",
        "outputId": "2345caaf-d5ed-445c-9848-ffda1d122241"
      },
      "execution_count": null,
      "outputs": [
        {
          "output_type": "stream",
          "name": "stdout",
          "text": [
            "\n",
            "Data types in the DataFrame:\n",
            "productCode            object\n",
            "productName            object\n",
            "productLine            object\n",
            "productScale           object\n",
            "productVendor          object\n",
            "productDescription     object\n",
            "quantityInStock         int64\n",
            "warehouseCode          object\n",
            "buyPrice              float64\n",
            "MSRP                  float64\n",
            "dtype: object\n"
          ]
        }
      ]
    },
    {
      "cell_type": "code",
      "source": [
        "print(\"First 5 Rows:\")\n",
        "print(df2.head(), \"\\n\")\n",
        "\n",
        "print(\" Data Info:\")\n",
        "print(df2.info(), \"\\n\")\n",
        "\n",
        "print(\" Statistical Summary:\")\n",
        "print(df2.describe(), \"\\n\")\n",
        "\n"
      ],
      "metadata": {
        "colab": {
          "base_uri": "https://localhost:8080/"
        },
        "id": "MG6Oc0XRfRsG",
        "outputId": "37c4ffc8-551b-4b01-eea1-38153059651e"
      },
      "execution_count": null,
      "outputs": [
        {
          "output_type": "stream",
          "name": "stdout",
          "text": [
            "First 5 Rows:\n",
            "  productCode                            productName   productLine  \\\n",
            "0    S10_1678  1969 Harley Davidson Ultimate Chopper   Motorcycles   \n",
            "1    S10_1949               1952 Alpine Renault 1300  Classic Cars   \n",
            "2    S10_2016                  1996 Moto Guzzi 1100i   Motorcycles   \n",
            "3    S10_4698   2003 Harley-Davidson Eagle Drag Bike   Motorcycles   \n",
            "4    S10_4757                    1972 Alfa Romeo GTA  Classic Cars   \n",
            "\n",
            "  productScale             productVendor  \\\n",
            "0         1:10           Min Lin Diecast   \n",
            "1         1:10   Classic Metal Creations   \n",
            "2         1:10  Highway 66 Mini Classics   \n",
            "3         1:10         Red Start Diecast   \n",
            "4         1:10   Motor City Art Classics   \n",
            "\n",
            "                                  productDescription  quantityInStock  \\\n",
            "0  This replica features working kickstand, front...             7933   \n",
            "1  Turnable front wheels; steering function; deta...             7305   \n",
            "2  Official Moto Guzzi logos and insignias, saddl...             6625   \n",
            "3  Model features, official Harley Davidson logos...             5582   \n",
            "4  Features include: Turnable front wheels; steer...             3252   \n",
            "\n",
            "  warehouseCode  buyPrice    MSRP  \n",
            "0             a     48.81   95.70  \n",
            "1             b     98.58  214.30  \n",
            "2             a     68.99  118.94  \n",
            "3             a     91.02  193.66  \n",
            "4             b     85.68  136.00   \n",
            "\n",
            " Data Info:\n",
            "<class 'pandas.core.frame.DataFrame'>\n",
            "RangeIndex: 84 entries, 0 to 83\n",
            "Data columns (total 10 columns):\n",
            " #   Column              Non-Null Count  Dtype  \n",
            "---  ------              --------------  -----  \n",
            " 0   productCode         84 non-null     object \n",
            " 1   productName         84 non-null     object \n",
            " 2   productLine         84 non-null     object \n",
            " 3   productScale        84 non-null     object \n",
            " 4   productVendor       84 non-null     object \n",
            " 5   productDescription  84 non-null     object \n",
            " 6   quantityInStock     84 non-null     int64  \n",
            " 7   warehouseCode       84 non-null     object \n",
            " 8   buyPrice            84 non-null     float64\n",
            " 9   MSRP                84 non-null     float64\n",
            "dtypes: float64(2), int64(1), object(7)\n",
            "memory usage: 6.7+ KB\n",
            "None \n",
            "\n",
            " Statistical Summary:\n",
            "       quantityInStock    buyPrice        MSRP\n",
            "count        84.000000   84.000000   84.000000\n",
            "mean       5358.166667   57.829048  106.857857\n",
            "std        2794.364914   23.053850   41.719888\n",
            "min          15.000000   15.910000   33.190000\n",
            "25%        2824.250000   37.047500   73.230000\n",
            "50%        5802.500000   58.405000  105.295000\n",
            "75%        7767.000000   73.832500  136.610000\n",
            "max        9997.000000  103.420000  214.300000 \n",
            "\n"
          ]
        }
      ]
    },
    {
      "cell_type": "code",
      "source": [
        "# Missing data\n",
        "print(df2.isnull().sum())\n",
        "\n",
        "# Duplicates\n",
        "print(df2.duplicated().sum())\n"
      ],
      "metadata": {
        "colab": {
          "base_uri": "https://localhost:8080/"
        },
        "collapsed": true,
        "id": "JhjDD3d6hHA3",
        "outputId": "4a392425-0e33-46c6-fd5e-ea4e112454da"
      },
      "execution_count": null,
      "outputs": [
        {
          "output_type": "stream",
          "name": "stdout",
          "text": [
            "productCode           0\n",
            "productName           0\n",
            "productLine           0\n",
            "productScale          0\n",
            "productVendor         0\n",
            "productDescription    0\n",
            "quantityInStock       0\n",
            "warehouseCode         0\n",
            "buyPrice              0\n",
            "MSRP                  0\n",
            "dtype: int64\n",
            "0\n"
          ]
        }
      ]
    },
    {
      "cell_type": "code",
      "source": [
        "print(df2.columns)\n"
      ],
      "metadata": {
        "colab": {
          "base_uri": "https://localhost:8080/"
        },
        "collapsed": true,
        "id": "7ApSVDYwjb_0",
        "outputId": "8929ed0c-5bdf-49c7-aa4d-30c495c09ae1"
      },
      "execution_count": null,
      "outputs": [
        {
          "output_type": "stream",
          "name": "stdout",
          "text": [
            "Index(['productCode', 'productName', 'productLine', 'productScale',\n",
            "       'productVendor', 'productDescription', 'quantityInStock',\n",
            "       'warehouseCode', 'buyPrice', 'MSRP'],\n",
            "      dtype='object')\n"
          ]
        }
      ]
    },
    {
      "cell_type": "code",
      "source": [
        "total_products = df2[\"productCode\"].nunique()\n",
        "low_stock = df2[df2[\"quantityInStock\"] < 2824]\n",
        "most_stocked = df2.sort_values(by=\"quantityInStock\", ascending=False).head(10)\n"
      ],
      "metadata": {
        "id": "KnPLskulhkSN"
      },
      "execution_count": null,
      "outputs": []
    },
    {
      "cell_type": "code",
      "source": [
        "print(\"Total unique products:\", total_products)\n",
        "print(\"\\nProducts with low stock (less than 2824):\")\n",
        "print(low_stock)\n",
        "\n",
        "\n",
        "print(\"\\nTop 10 most stocked products:\")\n",
        "print(most_stocked)"
      ],
      "metadata": {
        "colab": {
          "base_uri": "https://localhost:8080/"
        },
        "collapsed": true,
        "id": "IVzEYT_gkcj1",
        "outputId": "9d7e93dd-f0cd-4064-e778-0135b988ef3a"
      },
      "execution_count": null,
      "outputs": [
        {
          "output_type": "stream",
          "name": "stdout",
          "text": [
            "Total unique products: 84\n",
            "\n",
            "Products with low stock (less than 2824):\n",
            "   productCode                              productName       productLine  \\\n",
            "6     S12_1099                        1968 Ford Mustang      Classic Cars   \n",
            "8     S12_1666                           1958 Setra Bus  Trucks and Buses   \n",
            "12    S12_3891                         1969 Ford Falcon      Classic Cars   \n",
            "16    S18_1097                   1940 Ford Pickup Truck  Trucks and Buses   \n",
            "22    S18_1749                 1917 Grand Touring Sedan      Vintage Cars   \n",
            "26    S18_2248                       1911 Ford Town Car      Vintage Cars   \n",
            "29    S18_2432                    1926 Ford Fire Engine  Trucks and Buses   \n",
            "30    S18_2581                           P-51-D Mustang            Planes   \n",
            "32    S18_2795                   1928 Mercedes-Benz SSK      Vintage Cars   \n",
            "42    S18_3278                     1969 Dodge Super Bee      Classic Cars   \n",
            "47    S18_3856  1941 Chevrolet Special Deluxe Cabriolet      Vintage Cars   \n",
            "53    S18_4721                1957 Corvette Convertible      Classic Cars   \n",
            "55    S24_1046               1970 Chevy Chevelle SS 454      Classic Cars   \n",
            "61    S24_2000                 1960 BSA Gold Star DBD34       Motorcycles   \n",
            "62    S24_2011                    18th century schooner             Ships   \n",
            "64    S24_2300                 1962 Volkswagen Microbus  Trucks and Buses   \n",
            "66    S24_2766                       1949 Jaguar XK 120      Classic Cars   \n",
            "67    S24_2840      1958 Chevy Corvette Limited Edition      Classic Cars   \n",
            "69    S24_2887                        1952 Citroen-15CV      Classic Cars   \n",
            "79    S24_3969         1936 Mercedes Benz 500k Roadster      Vintage Cars   \n",
            "82    S24_4278                  1900s Vintage Tri-Plane            Planes   \n",
            "\n",
            "   productScale              productVendor  \\\n",
            "6          1:12      Autoart Studio Design   \n",
            "8          1:12  Welly Diecast Productions   \n",
            "12         1:12        Second Gear Diecast   \n",
            "16         1:18        Studio M Art Models   \n",
            "22         1:18  Welly Diecast Productions   \n",
            "26         1:18    Motor City Art Classics   \n",
            "29         1:18   Carousel DieCast Legends   \n",
            "30         1:72       Gearbox Collectibles   \n",
            "32         1:18       Gearbox Collectibles   \n",
            "42         1:18            Min Lin Diecast   \n",
            "47         1:18              Exoto Designs   \n",
            "53         1:18    Classic Metal Creations   \n",
            "55         1:24       Unimax Art Galleries   \n",
            "61         1:24   Highway 66 Mini Classics   \n",
            "62         1:24   Carousel DieCast Legends   \n",
            "64         1:24      Autoart Studio Design   \n",
            "66         1:24    Classic Metal Creations   \n",
            "67         1:24   Carousel DieCast Legends   \n",
            "69         1:24              Exoto Designs   \n",
            "79         1:24          Red Start Diecast   \n",
            "82         1:24       Unimax Art Galleries   \n",
            "\n",
            "                                   productDescription  quantityInStock  \\\n",
            "6   Hood, doors and trunk all open to reveal highl...               68   \n",
            "8   Model features 30 windows, skylights & glare r...             1579   \n",
            "12  Turnable front wheels; steering function; deta...             1049   \n",
            "16  This model features soft rubber tires, working...             2613   \n",
            "22  This 1:18 scale replica of the 1917 Grand Tour...             2724   \n",
            "26  Features opening hood, opening doors, opening ...              540   \n",
            "29  Gleaming red handsome appearance. Everything i...             2018   \n",
            "30      Has retractable wheels and comes with a stand              992   \n",
            "32  This 1:18 replica features grille-mounted chro...              548   \n",
            "42  This replica features opening doors, superb de...             1917   \n",
            "47  Features opening hood, opening doors, opening ...             2378   \n",
            "53  1957 die cast Corvette Convertible in Roman Re...             1249   \n",
            "55  This model features rotating wheels, working s...             1005   \n",
            "61  Detailed scale replica with working suspension...               15   \n",
            "62  All wood with canvas sails. Many extras includ...             1898   \n",
            "64  This 1:18 scale die cast replica of the 1962 M...             2327   \n",
            "66  Precision-engineered from original Jaguar spec...             2350   \n",
            "67  The operating parts of this 1958 Chevy Corvett...             2542   \n",
            "69  Precision crafted hand-assembled 1:18 scale re...             1452   \n",
            "79  This model features grille-mounted chrome horn...             2081   \n",
            "82  Hand crafted diecast-like metal Triplane is Re...             2756   \n",
            "\n",
            "   warehouseCode  buyPrice    MSRP  \n",
            "6              b     95.34  194.57  \n",
            "8              d     77.90  136.67  \n",
            "12             b     83.05  173.02  \n",
            "16             d     58.33  116.67  \n",
            "22             c     86.70  170.00  \n",
            "26             c     33.30   60.54  \n",
            "29             d     24.92   60.77  \n",
            "30             a     49.00   84.48  \n",
            "32             c     72.56  168.75  \n",
            "42             b     49.05   80.41  \n",
            "47             c     64.58  105.87  \n",
            "53             b     69.93  148.80  \n",
            "55             b     49.24   73.49  \n",
            "61             a     37.32   76.17  \n",
            "62             d     82.34  122.89  \n",
            "64             d     61.34  127.79  \n",
            "66             b     47.25   90.87  \n",
            "67             b     15.91   35.36  \n",
            "69             b     72.82  117.44  \n",
            "79             c     21.75   41.03  \n",
            "82             a     36.23   72.45  \n",
            "\n",
            "Top 10 most stocked products:\n",
            "   productCode                       productName   productLine productScale  \\\n",
            "9     S12_2823                  2002 Suzuki XREO   Motorcycles         1:12   \n",
            "24    S18_1984                  1995 Honda Civic  Classic Cars         1:18   \n",
            "75    S24_3432               2002 Chevy Corvette  Classic Cars         1:24   \n",
            "28    S18_2325         1932 Model A Ford J-Coupe  Vintage Cars         1:18   \n",
            "71    S24_3151  1912 Ford Model T Delivery Wagon  Vintage Cars         1:24   \n",
            "44    S18_3482             1976 Ford Gran Torino  Classic Cars         1:18   \n",
            "11    S12_3380                1968 Dodge Charger  Classic Cars         1:12   \n",
            "20    S18_1589             1965 Aston Martin DB5  Classic Cars         1:18   \n",
            "45    S18_3685    1948 Porsche Type 356 Roadster  Classic Cars         1:18   \n",
            "23    S18_1889       1948 Porsche 356-A Roadster  Classic Cars         1:18   \n",
            "\n",
            "                productVendor  \\\n",
            "9        Unimax Art Galleries   \n",
            "24            Min Lin Diecast   \n",
            "75       Gearbox Collectibles   \n",
            "28      Autoart Studio Design   \n",
            "71            Min Lin Diecast   \n",
            "44       Gearbox Collectibles   \n",
            "11  Welly Diecast Productions   \n",
            "20    Classic Metal Creations   \n",
            "45       Gearbox Collectibles   \n",
            "23       Gearbox Collectibles   \n",
            "\n",
            "                                   productDescription  quantityInStock  \\\n",
            "9   Official logos and insignias, saddle bags loca...             9997   \n",
            "24  This model features, opening hood, opening doo...             9772   \n",
            "75  The operating parts of this limited edition Di...             9446   \n",
            "28  This model features grille-mounted chrome horn...             9354   \n",
            "71  This model features chrome trim and grille, op...             9173   \n",
            "44  Highly detailed 1976 Ford Gran Torino \"Starsky...             9127   \n",
            "11  1:12 scale model of a 1968 Dodge Charger. Hood...             9123   \n",
            "20  Die-cast model of the silver 1965 Aston Martin...             9042   \n",
            "45  This model features working front and rear sus...             8990   \n",
            "23  This precision die-cast replica features openi...             8826   \n",
            "\n",
            "   warehouseCode  buyPrice    MSRP  \n",
            "9              a     66.27  150.62  \n",
            "24             b     93.89  142.25  \n",
            "75             b     62.11  107.08  \n",
            "28             c     58.48  127.13  \n",
            "71             c     46.91   88.51  \n",
            "44             b     73.49  146.99  \n",
            "11             b     75.16  117.44  \n",
            "20             b     65.96  124.44  \n",
            "45             b     62.16  141.28  \n",
            "23             b     53.90   77.00  \n"
          ]
        }
      ]
    },
    {
      "cell_type": "code",
      "source": [
        "# Total stock per warehouse\n",
        "warehouse_stock = df2.groupby(\"warehouseCode\")[\"quantityInStock\"].sum()\n",
        "print(\"Total stock per warehouse:\\n\", warehouse_stock)\n"
      ],
      "metadata": {
        "colab": {
          "base_uri": "https://localhost:8080/"
        },
        "id": "RHUdHGz1DqpK",
        "outputId": "6982d286-a14e-4751-b444-d101bddd6877"
      },
      "execution_count": null,
      "outputs": [
        {
          "output_type": "stream",
          "name": "stdout",
          "text": [
            "Total stock per warehouse:\n",
            " warehouseCode\n",
            "a     81500\n",
            "b    212249\n",
            "c    117682\n",
            "d     38655\n",
            "Name: quantityInStock, dtype: int64\n"
          ]
        }
      ]
    },
    {
      "cell_type": "code",
      "source": [
        "products_per_warehouse = df2.groupby(\"warehouseCode\")[\"productCode\"].nunique()\n",
        "print(\"Unique products per warehouse:\\n\", products_per_warehouse)\n"
      ],
      "metadata": {
        "colab": {
          "base_uri": "https://localhost:8080/"
        },
        "id": "rKvCTmjnDu9X",
        "outputId": "b1eb4878-2da6-41de-ff60-dcafda53845d"
      },
      "execution_count": null,
      "outputs": [
        {
          "output_type": "stream",
          "name": "stdout",
          "text": [
            "Unique products per warehouse:\n",
            " warehouseCode\n",
            "a    15\n",
            "b    37\n",
            "c    22\n",
            "d    10\n",
            "Name: productCode, dtype: int64\n"
          ]
        }
      ]
    },
    {
      "cell_type": "code",
      "source": [
        "# Filter items in a\n",
        "w1_items = df2[df2[\"warehouseCode\"] == \"a\"]\n",
        "\n",
        "# For each product in W1, check if it exists in other warehouses\n",
        "for code in w1_items[\"productCode\"].unique():\n",
        "    other_locations = df2[(df2[\"productCode\"] == code) & (df2[\"warehouseCode\"] != \"a\")]\n",
        "    if other_locations.empty:\n",
        "        print(f\"Product {code} only exists in W1 — cannot eliminate without moving it elsewhere.\")\n"
      ],
      "metadata": {
        "colab": {
          "base_uri": "https://localhost:8080/"
        },
        "collapsed": true,
        "id": "JpH6PsEtGM6O",
        "outputId": "4905cc43-10fb-42d3-c3bd-46f2c3677e6e"
      },
      "execution_count": null,
      "outputs": [
        {
          "output_type": "stream",
          "name": "stdout",
          "text": [
            "Product S10_1678 only exists in W1 — cannot eliminate without moving it elsewhere.\n",
            "Product S10_2016 only exists in W1 — cannot eliminate without moving it elsewhere.\n",
            "Product S10_4698 only exists in W1 — cannot eliminate without moving it elsewhere.\n",
            "Product S12_2823 only exists in W1 — cannot eliminate without moving it elsewhere.\n",
            "Product S18_1662 only exists in W1 — cannot eliminate without moving it elsewhere.\n",
            "Product S18_2581 only exists in W1 — cannot eliminate without moving it elsewhere.\n",
            "Product S18_2625 only exists in W1 — cannot eliminate without moving it elsewhere.\n",
            "Product S18_3782 only exists in W1 — cannot eliminate without moving it elsewhere.\n",
            "Product S24_1578 only exists in W1 — cannot eliminate without moving it elsewhere.\n",
            "Product S24_1785 only exists in W1 — cannot eliminate without moving it elsewhere.\n",
            "Product S24_2000 only exists in W1 — cannot eliminate without moving it elsewhere.\n",
            "Product S24_2360 only exists in W1 — cannot eliminate without moving it elsewhere.\n",
            "Product S24_2841 only exists in W1 — cannot eliminate without moving it elsewhere.\n",
            "Product S24_3949 only exists in W1 — cannot eliminate without moving it elsewhere.\n",
            "Product S24_4278 only exists in W1 — cannot eliminate without moving it elsewhere.\n"
          ]
        }
      ]
    },
    {
      "cell_type": "code",
      "source": [
        "# Filter items in W1\n",
        "w2_items = df2[df2[\"warehouseCode\"] == \"b\"]\n",
        "\n",
        "# For each product in W1, check if it exists in other warehouses\n",
        "for code in w2_items[\"productCode\"].unique():\n",
        "    other_locations = df2[(df2[\"productCode\"] == code) & (df2[\"warehouseCode\"] != \"b\")]\n",
        "    if other_locations.empty:\n",
        "        print(f\"Product {code} only exists in W1 — cannot eliminate without moving it elsewhere.\")\n"
      ],
      "metadata": {
        "colab": {
          "base_uri": "https://localhost:8080/"
        },
        "collapsed": true,
        "id": "4QIkm9wCGkPO",
        "outputId": "529ad06a-8690-4935-f28a-a91d6c3c3b51"
      },
      "execution_count": null,
      "outputs": [
        {
          "output_type": "stream",
          "name": "stdout",
          "text": [
            "Product S10_1949 only exists in W1 — cannot eliminate without moving it elsewhere.\n",
            "Product S10_4757 only exists in W1 — cannot eliminate without moving it elsewhere.\n",
            "Product S10_4962 only exists in W1 — cannot eliminate without moving it elsewhere.\n",
            "Product S12_1099 only exists in W1 — cannot eliminate without moving it elsewhere.\n",
            "Product S12_1108 only exists in W1 — cannot eliminate without moving it elsewhere.\n",
            "Product S12_3148 only exists in W1 — cannot eliminate without moving it elsewhere.\n",
            "Product S12_3380 only exists in W1 — cannot eliminate without moving it elsewhere.\n",
            "Product S12_3891 only exists in W1 — cannot eliminate without moving it elsewhere.\n",
            "Product S12_3990 only exists in W1 — cannot eliminate without moving it elsewhere.\n",
            "Product S12_4675 only exists in W1 — cannot eliminate without moving it elsewhere.\n",
            "Product S18_1129 only exists in W1 — cannot eliminate without moving it elsewhere.\n",
            "Product S18_1589 only exists in W1 — cannot eliminate without moving it elsewhere.\n",
            "Product S18_1889 only exists in W1 — cannot eliminate without moving it elsewhere.\n",
            "Product S18_1984 only exists in W1 — cannot eliminate without moving it elsewhere.\n",
            "Product S18_2238 only exists in W1 — cannot eliminate without moving it elsewhere.\n",
            "Product S18_2870 only exists in W1 — cannot eliminate without moving it elsewhere.\n",
            "Product S18_3232 only exists in W1 — cannot eliminate without moving it elsewhere.\n",
            "Product S18_3233 only exists in W1 — cannot eliminate without moving it elsewhere.\n",
            "Product S18_3278 only exists in W1 — cannot eliminate without moving it elsewhere.\n",
            "Product S18_3482 only exists in W1 — cannot eliminate without moving it elsewhere.\n",
            "Product S18_3685 only exists in W1 — cannot eliminate without moving it elsewhere.\n",
            "Product S18_4027 only exists in W1 — cannot eliminate without moving it elsewhere.\n",
            "Product S18_4721 only exists in W1 — cannot eliminate without moving it elsewhere.\n",
            "Product S18_4933 only exists in W1 — cannot eliminate without moving it elsewhere.\n",
            "Product S24_1046 only exists in W1 — cannot eliminate without moving it elsewhere.\n",
            "Product S24_1444 only exists in W1 — cannot eliminate without moving it elsewhere.\n",
            "Product S24_1628 only exists in W1 — cannot eliminate without moving it elsewhere.\n",
            "Product S24_2766 only exists in W1 — cannot eliminate without moving it elsewhere.\n",
            "Product S24_2840 only exists in W1 — cannot eliminate without moving it elsewhere.\n",
            "Product S24_2887 only exists in W1 — cannot eliminate without moving it elsewhere.\n",
            "Product S24_2972 only exists in W1 — cannot eliminate without moving it elsewhere.\n",
            "Product S24_3191 only exists in W1 — cannot eliminate without moving it elsewhere.\n",
            "Product S24_3371 only exists in W1 — cannot eliminate without moving it elsewhere.\n",
            "Product S24_3432 only exists in W1 — cannot eliminate without moving it elsewhere.\n",
            "Product S24_3856 only exists in W1 — cannot eliminate without moving it elsewhere.\n",
            "Product S24_4048 only exists in W1 — cannot eliminate without moving it elsewhere.\n",
            "Product S24_4620 only exists in W1 — cannot eliminate without moving it elsewhere.\n"
          ]
        }
      ]
    },
    {
      "cell_type": "code",
      "source": [
        "# Filter items in W1\n",
        "w3_items = df2[df2[\"warehouseCode\"] == \"c\"]\n",
        "\n",
        "# For each product in W1, check if it exists in other warehouses\n",
        "for code in w3_items[\"productCode\"].unique():\n",
        "    other_locations = df2[(df2[\"productCode\"] == code) & (df2[\"warehouseCode\"] != \"c\")]\n",
        "    if other_locations.empty:\n",
        "        print(f\"Product {code} only exists in W1 — cannot eliminate without moving it elsewhere.\")\n"
      ],
      "metadata": {
        "colab": {
          "base_uri": "https://localhost:8080/"
        },
        "collapsed": true,
        "id": "ajMI_JL_GupJ",
        "outputId": "90c4b941-b686-4eb5-f41b-be5a336d0688"
      },
      "execution_count": null,
      "outputs": [
        {
          "output_type": "stream",
          "name": "stdout",
          "text": [
            "Product S18_1342 only exists in W1 — cannot eliminate without moving it elsewhere.\n",
            "Product S18_1367 only exists in W1 — cannot eliminate without moving it elsewhere.\n",
            "Product S18_1749 only exists in W1 — cannot eliminate without moving it elsewhere.\n",
            "Product S18_2248 only exists in W1 — cannot eliminate without moving it elsewhere.\n",
            "Product S18_2325 only exists in W1 — cannot eliminate without moving it elsewhere.\n",
            "Product S18_2795 only exists in W1 — cannot eliminate without moving it elsewhere.\n",
            "Product S18_2949 only exists in W1 — cannot eliminate without moving it elsewhere.\n",
            "Product S18_2957 only exists in W1 — cannot eliminate without moving it elsewhere.\n",
            "Product S18_3136 only exists in W1 — cannot eliminate without moving it elsewhere.\n",
            "Product S18_3140 only exists in W1 — cannot eliminate without moving it elsewhere.\n",
            "Product S18_3320 only exists in W1 — cannot eliminate without moving it elsewhere.\n",
            "Product S18_3856 only exists in W1 — cannot eliminate without moving it elsewhere.\n",
            "Product S18_4409 only exists in W1 — cannot eliminate without moving it elsewhere.\n",
            "Product S18_4522 only exists in W1 — cannot eliminate without moving it elsewhere.\n",
            "Product S18_4668 only exists in W1 — cannot eliminate without moving it elsewhere.\n",
            "Product S24_1937 only exists in W1 — cannot eliminate without moving it elsewhere.\n",
            "Product S24_2022 only exists in W1 — cannot eliminate without moving it elsewhere.\n",
            "Product S24_3151 only exists in W1 — cannot eliminate without moving it elsewhere.\n",
            "Product S24_3420 only exists in W1 — cannot eliminate without moving it elsewhere.\n",
            "Product S24_3816 only exists in W1 — cannot eliminate without moving it elsewhere.\n",
            "Product S24_3969 only exists in W1 — cannot eliminate without moving it elsewhere.\n",
            "Product S24_4258 only exists in W1 — cannot eliminate without moving it elsewhere.\n"
          ]
        }
      ]
    },
    {
      "cell_type": "code",
      "source": [
        "# Filter items in W1\n",
        "w4_items = df2[df2[\"warehouseCode\"] == \"d\"]\n",
        "\n",
        "# For each product in W1, check if it exists in other warehouses\n",
        "for code in w4_items[\"productCode\"].unique():\n",
        "    other_locations = df2[(df2[\"productCode\"] == code) & (df2[\"warehouseCode\"] != \"d\")]\n",
        "    if other_locations.empty:\n",
        "        print(f\"Product {code} only exists in W1 — cannot eliminate without moving it elsewhere.\")\n"
      ],
      "metadata": {
        "colab": {
          "base_uri": "https://localhost:8080/"
        },
        "collapsed": true,
        "id": "jyvY9Fl7G6zk",
        "outputId": "17a775c4-acbc-4636-bdc8-60dca92940c2"
      },
      "execution_count": null,
      "outputs": [
        {
          "output_type": "stream",
          "name": "stdout",
          "text": [
            "Product S12_1666 only exists in W1 — cannot eliminate without moving it elsewhere.\n",
            "Product S12_4473 only exists in W1 — cannot eliminate without moving it elsewhere.\n",
            "Product S18_1097 only exists in W1 — cannot eliminate without moving it elsewhere.\n",
            "Product S18_2319 only exists in W1 — cannot eliminate without moving it elsewhere.\n",
            "Product S18_2432 only exists in W1 — cannot eliminate without moving it elsewhere.\n",
            "Product S18_3029 only exists in W1 — cannot eliminate without moving it elsewhere.\n",
            "Product S18_3259 only exists in W1 — cannot eliminate without moving it elsewhere.\n",
            "Product S18_4600 only exists in W1 — cannot eliminate without moving it elsewhere.\n",
            "Product S24_2011 only exists in W1 — cannot eliminate without moving it elsewhere.\n",
            "Product S24_2300 only exists in W1 — cannot eliminate without moving it elsewhere.\n"
          ]
        }
      ]
    },
    {
      "cell_type": "code",
      "source": [
        "df3 = pd.read_csv('warehouses.csv', sep=';', quotechar='\"')"
      ],
      "metadata": {
        "id": "EqRLcNlXRapJ"
      },
      "execution_count": null,
      "outputs": []
    },
    {
      "cell_type": "code",
      "source": [
        "print(\"First 5 Rows:\")\n",
        "print(df3.head(), \"\\n\")"
      ],
      "metadata": {
        "colab": {
          "base_uri": "https://localhost:8080/"
        },
        "collapsed": true,
        "id": "gWCyglwpRfhk",
        "outputId": "53af5c99-b819-49e8-b897-f3be90b92119"
      },
      "execution_count": null,
      "outputs": [
        {
          "output_type": "stream",
          "name": "stdout",
          "text": [
            "First 5 Rows:\n",
            "  warehouseCode warehouseName  warehousePctCap\n",
            "0             a         North               72\n",
            "1             b          East               67\n",
            "2             c          West               50\n",
            "3             d         South               75 \n",
            "\n"
          ]
        }
      ]
    },
    {
      "cell_type": "code",
      "source": [
        "warehouse_d_items = df2[df2[\"warehouseCode\"] == \"d\"]\n",
        "print(\"Total items in warehouse D:\", warehouse_d_items[\"quantityInStock\"].sum())\n"
      ],
      "metadata": {
        "colab": {
          "base_uri": "https://localhost:8080/"
        },
        "id": "lCGQxbd_SuJH",
        "outputId": "50a62e78-314a-4cfb-84a6-3b67fd6a72b9"
      },
      "execution_count": null,
      "outputs": [
        {
          "output_type": "stream",
          "name": "stdout",
          "text": [
            "Total items in warehouse D: 38655\n"
          ]
        }
      ]
    },
    {
      "cell_type": "code",
      "source": [
        "# Step 2: Estimate full capacity per warehouse\n",
        "df3[\"warehousePctCap\"] = pd.to_numeric(df3[\"warehousePctCap\"])\n",
        "stock_by_warehouse = df2.groupby(\"warehouseCode\")[\"quantityInStock\"].sum().reset_index()\n",
        "\n",
        "# Merge warehouse metadata and current stock\n",
        "merged = pd.merge(df3, stock_by_warehouse, on=\"warehouseCode\", how=\"left\")\n",
        "\n",
        "# Estimate total capacity in units:\n",
        "merged[\"estimatedCapacityUnits\"] = merged[\"quantityInStock\"] / (merged[\"warehousePctCap\"] / 100)\n",
        "\n",
        "# Calculate available units in each warehouse\n",
        "merged[\"availableUnits\"] = merged[\"estimatedCapacityUnits\"] * ((100 - merged[\"warehousePctCap\"]) / 100)\n",
        "\n",
        "print(merged[[\"warehouseCode\", \"warehouseName\", \"warehousePctCap\", \"quantityInStock\", \"availableUnits\"]])\n"
      ],
      "metadata": {
        "colab": {
          "base_uri": "https://localhost:8080/"
        },
        "id": "T4D4Bt9ZU5mU",
        "outputId": "1e33cb94-de04-4b12-e453-857db5760eb9"
      },
      "execution_count": null,
      "outputs": [
        {
          "output_type": "stream",
          "name": "stdout",
          "text": [
            "  warehouseCode warehouseName  warehousePctCap  quantityInStock  \\\n",
            "0             a         North               72            81500   \n",
            "1             b          East               67           212249   \n",
            "2             c          West               50           117682   \n",
            "3             d         South               75            38655   \n",
            "\n",
            "   availableUnits  \n",
            "0    31694.444444  \n",
            "1   104540.552239  \n",
            "2   117682.000000  \n",
            "3    12885.000000  \n"
          ]
        }
      ]
    },
    {
      "cell_type": "code",
      "source": [
        "# How much inventory is in warehouse D?\n",
        "qty_in_d = merged[merged[\"warehouseCode\"] == \"d\"][\"quantityInStock\"].values[0]\n",
        "\n",
        "# How much space is available in other warehouses?\n",
        "available_in_others = merged[merged[\"warehouseCode\"] != \"d\"][\"availableUnits\"].sum()\n",
        "\n",
        "print(\"Inventory in warehouse D:\", qty_in_d)\n",
        "print(\"Total available space in other warehouses:\", available_in_others)\n",
        "\n",
        "if qty_in_d <= available_in_others:\n",
        "    print(\"✅ Warehouse D can be eliminated.\")\n",
        "else:\n",
        "    print(\"❌ Warehouse D cannot be eliminated — not enough space elsewhere.\")\n"
      ],
      "metadata": {
        "colab": {
          "base_uri": "https://localhost:8080/"
        },
        "id": "zHWlWGrIVyHF",
        "outputId": "087e19ad-6485-4c4e-826f-759e4eefb20d"
      },
      "execution_count": null,
      "outputs": [
        {
          "output_type": "stream",
          "name": "stdout",
          "text": [
            "Inventory in warehouse D: 38655\n",
            "Total available space in other warehouses: 253916.9966832504\n",
            "✅ Warehouse D can be eliminated.\n"
          ]
        }
      ]
    }
  ]
}