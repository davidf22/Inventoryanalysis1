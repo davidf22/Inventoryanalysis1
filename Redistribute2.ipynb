{
  "nbformat": 4,
  "nbformat_minor": 0,
  "metadata": {
    "colab": {
      "provenance": [],
      "authorship_tag": "ABX9TyN13h7HPttaM5+0+SURB+CC",
      "include_colab_link": true
    },
    "kernelspec": {
      "name": "python3",
      "display_name": "Python 3"
    },
    "language_info": {
      "name": "python"
    }
  },
  "cells": [
    {
      "cell_type": "markdown",
      "metadata": {
        "id": "view-in-github",
        "colab_type": "text"
      },
      "source": [
        "<a href=\"https://colab.research.google.com/github/davidf22/Inventoryanalysis1/blob/main/Redistribute2.ipynb\" target=\"_parent\"><img src=\"https://colab.research.google.com/assets/colab-badge.svg\" alt=\"Open In Colab\"/></a>"
      ]
    },
    {
      "cell_type": "code",
      "execution_count": null,
      "metadata": {
        "id": "zgo7CdL809pm"
      },
      "outputs": [],
      "source": [
        "import numpy as np\n",
        "import pandas as pd\n",
        "import matplotlib.pyplot as plt"
      ]
    },
    {
      "cell_type": "code",
      "source": [
        "df2 = pd.read_csv(\"products.csv\", on_bad_lines='skip')"
      ],
      "metadata": {
        "id": "xPvr57OPF9rp"
      },
      "execution_count": null,
      "outputs": []
    },
    {
      "cell_type": "code",
      "source": [
        "df2 = pd.read_csv('products.csv', sep=';', quotechar='\"')"
      ],
      "metadata": {
        "id": "YL3b3RtHGARp"
      },
      "execution_count": null,
      "outputs": []
    },
    {
      "cell_type": "code",
      "source": [
        "print(\"\\nData types in the DataFrame:\")\n",
        "print(df2.dtypes)"
      ],
      "metadata": {
        "colab": {
          "base_uri": "https://localhost:8080/"
        },
        "collapsed": true,
        "id": "cMZim1k2GF3U",
        "outputId": "99e9812b-8d84-482c-8e95-f4909adbef91"
      },
      "execution_count": null,
      "outputs": [
        {
          "output_type": "stream",
          "name": "stdout",
          "text": [
            "\n",
            "Data types in the DataFrame:\n",
            "productCode            object\n",
            "productName            object\n",
            "productLine            object\n",
            "productScale           object\n",
            "productVendor          object\n",
            "productDescription     object\n",
            "quantityInStock         int64\n",
            "warehouseCode          object\n",
            "buyPrice              float64\n",
            "MSRP                  float64\n",
            "dtype: object\n"
          ]
        }
      ]
    },
    {
      "cell_type": "code",
      "source": [
        "# Total number of all items in inventory (across all warehouses)\n",
        "total_inventory = df2[\"quantityInStock\"].sum()\n",
        "print(\"Total number of stock units (inventory):\", total_inventory)\n"
      ],
      "metadata": {
        "colab": {
          "base_uri": "https://localhost:8080/"
        },
        "id": "ILmF-QakHBD0",
        "outputId": "8c49c17a-e527-4966-ce6b-f531090044b4"
      },
      "execution_count": null,
      "outputs": [
        {
          "output_type": "stream",
          "name": "stdout",
          "text": [
            "Total number of stock units (inventory): 450086\n"
          ]
        }
      ]
    },
    {
      "cell_type": "code",
      "source": [
        "df3 = pd.read_csv('orderdetails.csv', sep=';', quotechar='\"')"
      ],
      "metadata": {
        "id": "8g7JkY4WIPCq"
      },
      "execution_count": null,
      "outputs": []
    },
    {
      "cell_type": "code",
      "source": [
        "print(\"\\nData types in the DataFrame:\")\n",
        "print(df3.dtypes)"
      ],
      "metadata": {
        "colab": {
          "base_uri": "https://localhost:8080/"
        },
        "collapsed": true,
        "id": "MajTFJ3WIcvd",
        "outputId": "33711e8e-cb85-43f1-c11b-49a13caf827f"
      },
      "execution_count": null,
      "outputs": [
        {
          "output_type": "stream",
          "name": "stdout",
          "text": [
            "\n",
            "Data types in the DataFrame:\n",
            "orderNumber          int64\n",
            "productCode         object\n",
            "quantityOrdered      int64\n",
            "priceEach          float64\n",
            "orderLineNumber      int64\n",
            "dtype: object\n"
          ]
        }
      ]
    },
    {
      "cell_type": "code",
      "source": [
        "df4 = df3[df3[\"productCode\"].isin(df2[\"productCode\"])]\n"
      ],
      "metadata": {
        "id": "wjhRxYi7MTCI"
      },
      "execution_count": null,
      "outputs": []
    },
    {
      "cell_type": "code",
      "source": [
        "\n",
        "\n",
        "\n",
        "\n",
        "product_codes_inventory = set(df2[\"productCode\"])\n",
        "product_codes_orders = set(df4[\"productCode\"])\n",
        "\n",
        "# Find any codes in orders that are not in inventory\n",
        "missing_codes = product_codes_orders - product_codes_inventory\n",
        "\n",
        "if missing_codes:\n",
        "    print(\"❌ These product codes in orders do NOT exist in inventory (df2):\")\n",
        "    print(missing_codes)\n",
        "else:\n",
        "    print(\"✅ All product codes in order details exist in inventory.\")\n"
      ],
      "metadata": {
        "colab": {
          "base_uri": "https://localhost:8080/"
        },
        "id": "qiixXqKcJW_u",
        "outputId": "841d84ab-e161-47d5-eca3-4e262f79bf0d"
      },
      "execution_count": null,
      "outputs": [
        {
          "output_type": "stream",
          "name": "stdout",
          "text": [
            "✅ All product codes in order details exist in inventory.\n"
          ]
        }
      ]
    },
    {
      "cell_type": "code",
      "source": [
        "# Step 1: Total quantity ordered (from orderdetails.csv)\n",
        "total_ordered = df3[\"quantityOrdered\"].sum()\n",
        "print(\"🧾 Total quantity ordered:\", total_ordered)"
      ],
      "metadata": {
        "colab": {
          "base_uri": "https://localhost:8080/"
        },
        "id": "9dnGYMxGNSPW",
        "outputId": "cd10a1fb-717f-4544-d4f3-558504b79887"
      },
      "execution_count": null,
      "outputs": [
        {
          "output_type": "stream",
          "name": "stdout",
          "text": [
            "🧾 Total quantity ordered: 105516\n"
          ]
        }
      ]
    },
    {
      "cell_type": "code",
      "source": [
        "df5 = pd.read_csv('orders.csv', sep=';', quotechar='\"')"
      ],
      "metadata": {
        "id": "D29B18ovPCMh"
      },
      "execution_count": null,
      "outputs": []
    },
    {
      "cell_type": "code",
      "source": [
        "print(\"\\nData types in the DataFrame:\")\n",
        "print(df5.dtypes)"
      ],
      "metadata": {
        "colab": {
          "base_uri": "https://localhost:8080/"
        },
        "collapsed": true,
        "id": "wJExBDLpQCB5",
        "outputId": "95e2d76b-85e5-4c50-e2cb-60e48551d877"
      },
      "execution_count": null,
      "outputs": [
        {
          "output_type": "stream",
          "name": "stdout",
          "text": [
            "\n",
            "Data types in the DataFrame:\n",
            "orderNumber        int64\n",
            "orderDate         object\n",
            "requiredDate      object\n",
            "shippedDate       object\n",
            "status            object\n",
            "comments          object\n",
            "customerNumber     int64\n",
            "dtype: object\n"
          ]
        }
      ]
    },
    {
      "cell_type": "code",
      "source": [
        "order_number_inventory = set(df5[\"orderNumber\"])\n",
        "order_number_details = set(df4[\"orderNumber\"])\n",
        "\n",
        "# Find any codes in orders that are not in inventory\n",
        "missing_orders = order_number_details -order_number_inventory\n",
        "\n",
        "if missing_codes:\n",
        "    print(\"❌ These order numbers in orders do NOT exist in inventory (df4):\")\n",
        "    print(missing_codes)\n",
        "else:\n",
        "    print(\"✅ All order numbers in order details exist in inventory.\")"
      ],
      "metadata": {
        "colab": {
          "base_uri": "https://localhost:8080/"
        },
        "id": "DnkqS3DVPPiU",
        "outputId": "a37c3a45-60e0-405a-bd2c-62b55c92307d"
      },
      "execution_count": null,
      "outputs": [
        {
          "output_type": "stream",
          "name": "stdout",
          "text": [
            "✅ All order numbers in order details exist in inventory.\n"
          ]
        }
      ]
    },
    {
      "cell_type": "code",
      "source": [
        "# Count how many orders fall into each status category\n",
        "status_counts = df5[\"status\"].value_counts()\n",
        "\n",
        "print(\"📦 Order status breakdown:\")\n",
        "print(status_counts)\n"
      ],
      "metadata": {
        "colab": {
          "base_uri": "https://localhost:8080/"
        },
        "id": "Uks9FxLGQTJc",
        "outputId": "0109c260-7928-4618-d8d0-20baead37916"
      },
      "execution_count": null,
      "outputs": [
        {
          "output_type": "stream",
          "name": "stdout",
          "text": [
            "📦 Order status breakdown:\n",
            "status\n",
            "Shipped       303\n",
            "Cancelled       6\n",
            "In Process      6\n",
            "Resolved        4\n",
            "On Hold         4\n",
            "Disputed        3\n",
            "Name: count, dtype: int64\n"
          ]
        }
      ]
    },
    {
      "cell_type": "code",
      "source": [
        "df6 = pd.read_csv('payments.csv', sep=';', quotechar='\"')"
      ],
      "metadata": {
        "id": "LptnfbIVR-xX"
      },
      "execution_count": null,
      "outputs": []
    },
    {
      "cell_type": "code",
      "source": [
        "print(\"First 10 Rows:\")\n",
        "print(df6.head(), \"\\n\")\n",
        "\n",
        "print(\" Data Info:\")\n",
        "print(df6.info(), \"\\n\")\n",
        "\n",
        "print(\" Statistical Summary:\")\n",
        "print(df6.describe(), \"\\n\")\n"
      ],
      "metadata": {
        "colab": {
          "base_uri": "https://localhost:8080/"
        },
        "collapsed": true,
        "id": "kPQJXCqdTWLN",
        "outputId": "986c44d3-5036-42af-af30-7a935d00d851"
      },
      "execution_count": null,
      "outputs": [
        {
          "output_type": "stream",
          "name": "stdout",
          "text": [
            "First 10 Rows:\n",
            "   customerNumber checkNumber paymentDate    amount\n",
            "0             103    HQ336336  2004-10-19   6066.78\n",
            "1             103    JM555205  2003-06-05  14571.44\n",
            "2             103    OM314933  2004-12-18   1676.14\n",
            "3             112    BO864823  2004-12-17  14191.12\n",
            "4             112     HQ55022  2003-06-06  32641.98 \n",
            "\n",
            " Data Info:\n",
            "<class 'pandas.core.frame.DataFrame'>\n",
            "RangeIndex: 273 entries, 0 to 272\n",
            "Data columns (total 4 columns):\n",
            " #   Column          Non-Null Count  Dtype  \n",
            "---  ------          --------------  -----  \n",
            " 0   customerNumber  273 non-null    int64  \n",
            " 1   checkNumber     273 non-null    object \n",
            " 2   paymentDate     273 non-null    object \n",
            " 3   amount          273 non-null    float64\n",
            "dtypes: float64(1), int64(1), object(2)\n",
            "memory usage: 8.7+ KB\n",
            "None \n",
            "\n",
            " Statistical Summary:\n",
            "       customerNumber         amount\n",
            "count      273.000000     273.000000\n",
            "mean       271.194139   32431.645531\n",
            "std        120.069507   20997.116917\n",
            "min        103.000000     615.450000\n",
            "25%        161.000000   16909.840000\n",
            "50%        250.000000   32077.440000\n",
            "75%        363.000000   45352.470000\n",
            "max        496.000000  120166.580000 \n",
            "\n"
          ]
        }
      ]
    },
    {
      "cell_type": "code",
      "source": [
        "paid_customers = set(df6[\"customerNumber\"])\n",
        "shipped_orderss = set(df5[\"customerNumber\"])\n",
        "\n",
        "# Find any codes in orders that are not in inventory\n",
        "missing_orders = paid_customers - shipped_orderss\n",
        "\n",
        "if missing_orders:\n",
        "    print(\"❌ These order numbers in orders do NOT exist in inventory (df6):\")\n",
        "    print(missing_orders)\n",
        "else:\n",
        "    print(\"✅ All order numbers in order details exist in inventory.\")"
      ],
      "metadata": {
        "colab": {
          "base_uri": "https://localhost:8080/"
        },
        "id": "arH_CZtzaxCg",
        "outputId": "95da560f-dbca-4e52-bc58-c4b23d21666f"
      },
      "execution_count": null,
      "outputs": [
        {
          "output_type": "stream",
          "name": "stdout",
          "text": [
            "✅ All order numbers in order details exist in inventory.\n"
          ]
        }
      ]
    },
    {
      "cell_type": "code",
      "source": [
        "shipped_orders = df5[df5[\"status\"] == \"Shipped\"]\n",
        "print(\"Total shipped orders:\", len(shipped_orders))\n",
        "\n",
        "\n"
      ],
      "metadata": {
        "colab": {
          "base_uri": "https://localhost:8080/"
        },
        "id": "JndZfQV1WLP2",
        "outputId": "84f03b54-cec3-4ae0-be10-0d880feb6e71"
      },
      "execution_count": null,
      "outputs": [
        {
          "output_type": "stream",
          "name": "stdout",
          "text": [
            "Total shipped orders: 303\n"
          ]
        }
      ]
    },
    {
      "cell_type": "code",
      "source": [
        "shipped_customers = shipped_orders[\"customerNumber\"].unique()"
      ],
      "metadata": {
        "id": "p6ehGJckXYMl"
      },
      "execution_count": null,
      "outputs": []
    },
    {
      "cell_type": "code",
      "source": [
        "print(shipped_customers[:5])\n"
      ],
      "metadata": {
        "colab": {
          "base_uri": "https://localhost:8080/"
        },
        "id": "YXMORaqIYuRs",
        "outputId": "676cd9d1-9884-42bf-acce-c0e5ff7cceb4"
      },
      "execution_count": null,
      "outputs": [
        {
          "output_type": "stream",
          "name": "stdout",
          "text": [
            "['363' '128' '181' '121' '141']\n"
          ]
        }
      ]
    },
    {
      "cell_type": "code",
      "source": [
        "df5[\"customerNumber\"] = df5[\"customerNumber\"].astype(str).str.strip()\n",
        "df6[\"customerNumber\"] = df6[\"customerNumber\"].astype(str).str.strip()\n"
      ],
      "metadata": {
        "id": "XEpJcsamfDwU"
      },
      "execution_count": null,
      "outputs": []
    },
    {
      "cell_type": "code",
      "source": [
        "print(df6.columns)\n"
      ],
      "metadata": {
        "colab": {
          "base_uri": "https://localhost:8080/"
        },
        "id": "S9B-Qh58yjAi",
        "outputId": "5a416736-e2b6-4081-a7b8-deb87706797e"
      },
      "execution_count": null,
      "outputs": [
        {
          "output_type": "stream",
          "name": "stdout",
          "text": [
            "Index(['customerNumber', 'checkNumber', 'paymentDate', 'amount'], dtype='object')\n"
          ]
        }
      ]
    },
    {
      "cell_type": "code",
      "source": [
        "# Customers who had shipped orders\n",
        "shipped_customers = df5[df5[\"status\"] == \"shipped\"][\"customerNumber\"].unique()\n",
        "\n",
        "# Check how many of these exist in df6\n",
        "matching_customers = df6[df6[\"customerNumber\"].isin(shipped_customers)]\n",
        "\n",
        "print(\"✅ Customers in df6 with shipped orders:\", matching_customers[\"customerNumber\"].nunique())\n",
        "print(matching_customers.head())\n"
      ],
      "metadata": {
        "colab": {
          "base_uri": "https://localhost:8080/"
        },
        "collapsed": true,
        "id": "a_oLTi6tywXS",
        "outputId": "d738d533-0318-47ed-dc8a-105f940beb87"
      },
      "execution_count": null,
      "outputs": [
        {
          "output_type": "stream",
          "name": "stdout",
          "text": [
            "✅ Customers in df6 with shipped orders: 0\n",
            "Empty DataFrame\n",
            "Columns: [customerNumber, checkNumber, paymentDate, amount]\n",
            "Index: []\n"
          ]
        }
      ]
    },
    {
      "cell_type": "code",
      "source": [
        "# Filter payment records for those customers\n",
        "shipped_payments = df6[df6[\"customerNumber\"].isin(shipped_customers)]"
      ],
      "metadata": {
        "id": "ViuV9sqPXsYz"
      },
      "execution_count": null,
      "outputs": []
    },
    {
      "cell_type": "code",
      "source": [
        "print(shipped_payments[:5])"
      ],
      "metadata": {
        "colab": {
          "base_uri": "https://localhost:8080/"
        },
        "id": "Rc8gaIW0ZkzQ",
        "outputId": "0a26c331-218d-4775-8aef-989b2d54eb2f"
      },
      "execution_count": null,
      "outputs": [
        {
          "output_type": "stream",
          "name": "stdout",
          "text": [
            "  customerNumber checkNumber paymentDate    amount\n",
            "0            103    HQ336336  2004-10-19   6066.78\n",
            "1            103    JM555205  2003-06-05  14571.44\n",
            "2            103    OM314933  2004-12-18   1676.14\n",
            "3            112    BO864823  2004-12-17  14191.12\n",
            "4            112     HQ55022  2003-06-06  32641.98\n"
          ]
        }
      ]
    },
    {
      "cell_type": "markdown",
      "source": [
        "BREAK"
      ],
      "metadata": {
        "id": "mRwR9L8n0w_x"
      }
    },
    {
      "cell_type": "code",
      "source": [
        "customer_payments = shipped_payments.groupby(\"customerNumber\")[\"amount\"].sum().reset_index()"
      ],
      "metadata": {
        "id": "HnIvzRrWXzQ3"
      },
      "execution_count": null,
      "outputs": []
    },
    {
      "cell_type": "code",
      "source": [
        "total_paid_shipped = customer_payments[\"amount\"].sum()"
      ],
      "metadata": {
        "id": "ydHVm3BGX5xx"
      },
      "execution_count": null,
      "outputs": []
    },
    {
      "cell_type": "code",
      "source": [
        "print(\"💳 Total amount paid by customers with shipped orders:\", total_paid_shipped)\n",
        "print(\"\\n📋 Breakdown per customer:\")\n",
        "print(customer_payments [:5])"
      ],
      "metadata": {
        "colab": {
          "base_uri": "https://localhost:8080/"
        },
        "collapsed": true,
        "id": "CPpQtOJ_YQVm",
        "outputId": "07fc7dea-0120-4ae2-9f5a-e705255096a2"
      },
      "execution_count": null,
      "outputs": [
        {
          "output_type": "stream",
          "name": "stdout",
          "text": [
            "💳 Total amount paid by customers with shipped orders: 8853839.23\n",
            "\n",
            "📋 Breakdown per customer:\n",
            "  customerNumber     amount\n",
            "0            103   22314.36\n",
            "1            112   80180.98\n",
            "2            114  180585.07\n",
            "3            119  116949.68\n",
            "4            121  104224.79\n"
          ]
        }
      ]
    },
    {
      "cell_type": "code",
      "source": [
        "shipped_orders = df5[df5[\"status\"] == \"Shipped\"]\n",
        "shipped_order_numbers = shipped_orders[\"orderNumber\"].unique()\n"
      ],
      "metadata": {
        "id": "SiuEP-hUihMG"
      },
      "execution_count": null,
      "outputs": []
    },
    {
      "cell_type": "code",
      "source": [
        "shipped_quantities = df3[df3[\"orderNumber\"].isin(shipped_order_numbers)]\n"
      ],
      "metadata": {
        "id": "Tqz66zCTilG6"
      },
      "execution_count": null,
      "outputs": []
    },
    {
      "cell_type": "code",
      "source": [
        "print(shipped_quantities[[\"orderNumber\", \"quantityOrdered\"]].head())\n"
      ],
      "metadata": {
        "colab": {
          "base_uri": "https://localhost:8080/"
        },
        "id": "XsLpu9CwitV9",
        "outputId": "cef4ddf6-b075-4dc7-9d77-94f46538a535"
      },
      "execution_count": null,
      "outputs": [
        {
          "output_type": "stream",
          "name": "stdout",
          "text": [
            "   orderNumber  quantityOrdered\n",
            "0        10100               30\n",
            "1        10100               50\n",
            "2        10100               22\n",
            "3        10100               49\n",
            "4        10101               25\n"
          ]
        }
      ]
    },
    {
      "cell_type": "code",
      "source": [
        "total_shipped_quantity = shipped_quantities[\"quantityOrdered\"].sum()\n",
        "print(\"Total quantity of shipped items:\", total_shipped_quantity)\n"
      ],
      "metadata": {
        "colab": {
          "base_uri": "https://localhost:8080/"
        },
        "id": "D389triejCqC",
        "outputId": "50c87fa8-64e5-47e4-c6a1-401ceb480069"
      },
      "execution_count": null,
      "outputs": [
        {
          "output_type": "stream",
          "name": "stdout",
          "text": [
            "Total quantity of shipped items: 97141\n"
          ]
        }
      ]
    },
    {
      "cell_type": "code",
      "source": [
        "# Total ordered quantity per product\n",
        "ordered_qty = df4.groupby(\"productCode\")[\"quantityOrdered\"].sum().reset_index()\n",
        "\n",
        "# Inventory stock per product\n",
        "stock_qty = df2[[\"productCode\", \"quantityInStock\"]]\n",
        "\n",
        "# Merge to align stock and orders\n",
        "product_demand_supply = pd.merge(ordered_qty, stock_qty, on=\"productCode\", how=\"left\")\n",
        "\n",
        "# Optional: Calculate surplus or shortage\n",
        "product_demand_supply[\"surplus\"] = product_demand_supply[\"quantityInStock\"] - product_demand_supply[\"quantityOrdered\"]\n",
        "\n",
        "print(product_demand_supply.head())\n"
      ],
      "metadata": {
        "colab": {
          "base_uri": "https://localhost:8080/"
        },
        "id": "HZXVkAUU4XFE",
        "outputId": "80995dac-5ce2-4e36-a55a-8408ca8ae49d"
      },
      "execution_count": null,
      "outputs": [
        {
          "output_type": "stream",
          "name": "stdout",
          "text": [
            "  productCode  quantityOrdered  quantityInStock  surplus\n",
            "0    S10_1678             1057             7933     6876\n",
            "1    S10_1949              961             7305     6344\n",
            "2    S10_2016              999             6625     5626\n",
            "3    S10_4698              985             5582     4597\n",
            "4    S10_4757             1030             3252     2222\n"
          ]
        }
      ]
    },
    {
      "cell_type": "code",
      "source": [
        "overstocked = product_demand_supply[product_demand_supply[\"surplus\"] > 7767]\n",
        "understocked = product_demand_supply[product_demand_supply[\"surplus\"] < 2824]\n",
        "\n",
        "print(\"🔺 Overstocked products:\", overstocked.shape[0])\n",
        "print(\"🔻 Understocked products:\", understocked.shape[0])\n"
      ],
      "metadata": {
        "colab": {
          "base_uri": "https://localhost:8080/"
        },
        "id": "SnNCO3vB8XpY",
        "outputId": "e2bfc332-729b-4672-f9f8-bac8419de3e1"
      },
      "execution_count": null,
      "outputs": [
        {
          "output_type": "stream",
          "name": "stdout",
          "text": [
            "🔺 Overstocked products: 10\n",
            "🔻 Understocked products: 28\n"
          ]
        }
      ]
    }
  ]
}