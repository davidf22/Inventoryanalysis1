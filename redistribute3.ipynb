{
  "nbformat": 4,
  "nbformat_minor": 0,
  "metadata": {
    "colab": {
      "provenance": [],
      "authorship_tag": "ABX9TyOiS6sie7OaDyF+z3kaXIxy",
      "include_colab_link": true
    },
    "kernelspec": {
      "name": "python3",
      "display_name": "Python 3"
    },
    "language_info": {
      "name": "python"
    }
  },
  "cells": [
    {
      "cell_type": "markdown",
      "metadata": {
        "id": "view-in-github",
        "colab_type": "text"
      },
      "source": [
        "<a href=\"https://colab.research.google.com/github/davidf22/Inventoryanalysis1/blob/main/redistribute3.ipynb\" target=\"_parent\"><img src=\"https://colab.research.google.com/assets/colab-badge.svg\" alt=\"Open In Colab\"/></a>"
      ]
    },
    {
      "cell_type": "code",
      "execution_count": null,
      "metadata": {
        "id": "BBdJJyrlwo64"
      },
      "outputs": [],
      "source": [
        "import numpy as np\n",
        "import pandas as pd\n",
        "import matplotlib.pyplot as plt"
      ]
    },
    {
      "cell_type": "code",
      "source": [
        "df2 = pd.read_csv(\"products.csv\", on_bad_lines='skip')"
      ],
      "metadata": {
        "id": "E22qV9tXzlIC"
      },
      "execution_count": null,
      "outputs": []
    },
    {
      "cell_type": "code",
      "source": [
        "df2 = pd.read_csv('products.csv', sep=';', quotechar='\"')"
      ],
      "metadata": {
        "id": "9EIkF5_-znCx"
      },
      "execution_count": null,
      "outputs": []
    },
    {
      "cell_type": "code",
      "source": [
        "df3 = pd.read_csv('orderdetails.csv', sep=';', quotechar='\"')"
      ],
      "metadata": {
        "id": "poqi_gQq01nY"
      },
      "execution_count": null,
      "outputs": []
    },
    {
      "cell_type": "code",
      "source": [
        "inventory_products = set(df2[\"productCode\"])\n"
      ],
      "metadata": {
        "id": "sDv6LTeM1VNx"
      },
      "execution_count": null,
      "outputs": []
    },
    {
      "cell_type": "code",
      "source": [
        "ordered_products = set(df3[\"productCode\"])\n"
      ],
      "metadata": {
        "id": "Krol2WnV1bra"
      },
      "execution_count": null,
      "outputs": []
    },
    {
      "cell_type": "code",
      "source": [
        "non_moving_products = inventory_products - ordered_products\n",
        "print(\"🧊 Products in stock but never ordered:\")\n",
        "print(non_moving_products)\n"
      ],
      "metadata": {
        "colab": {
          "base_uri": "https://localhost:8080/"
        },
        "id": "j2cQVihE11CQ",
        "outputId": "fac433ae-c419-4b26-d889-9802ff4d95b9"
      },
      "execution_count": null,
      "outputs": [
        {
          "output_type": "stream",
          "name": "stdout",
          "text": [
            "🧊 Products in stock but never ordered:\n",
            "{'S18_3233'}\n"
          ]
        }
      ]
    },
    {
      "cell_type": "code",
      "source": [
        "non_moving_df = df2[df2[\"productCode\"].isin(non_moving_products)]\n",
        "print(\"📦 Idle stock quantities (never ordered):\")\n",
        "print(non_moving_df[[\"productCode\", \"quantityInStock\"]])"
      ],
      "metadata": {
        "colab": {
          "base_uri": "https://localhost:8080/"
        },
        "id": "lzWRfxtH3YC6",
        "outputId": "189c0c47-4b64-4724-a2c6-c3445b10b249"
      },
      "execution_count": null,
      "outputs": [
        {
          "output_type": "stream",
          "name": "stdout",
          "text": [
            "📦 Idle stock quantities (never ordered):\n",
            "   productCode  quantityInStock\n",
            "40    S18_3233             7733\n"
          ]
        }
      ]
    },
    {
      "cell_type": "markdown",
      "source": [
        "BREAK\n"
      ],
      "metadata": {
        "id": "5kYWrKuJ786M"
      }
    },
    {
      "cell_type": "code",
      "source": [
        "df7 = pd.read_csv(\"productlines.csv\", sep=\";\", quotechar='\"')\n"
      ],
      "metadata": {
        "id": "3UBAVPTy8B7w"
      },
      "execution_count": null,
      "outputs": []
    },
    {
      "cell_type": "code",
      "source": [
        "ordered_summary = df3.groupby(\"productCode\")[\"quantityOrdered\"].sum().reset_index()\n",
        "ordered_summary.rename(columns={\"quantityOrdered\": \"totalOrdered\"}, inplace=True)\n"
      ],
      "metadata": {
        "id": "pfWoC5uU8f28"
      },
      "execution_count": null,
      "outputs": []
    },
    {
      "cell_type": "code",
      "source": [
        "product_eval = pd.merge(df2, ordered_summary, on=\"productCode\", how=\"left\")\n",
        "product_eval[\"totalOrdered\"] = product_eval[\"totalOrdered\"].fillna(0)\n",
        "\n"
      ],
      "metadata": {
        "id": "GUPvNK8f81V4"
      },
      "execution_count": null,
      "outputs": []
    },
    {
      "cell_type": "code",
      "source": [
        "drop_candidates = product_eval[\n",
        "    (product_eval[\"totalOrdered\"] < 1500/.) & (product_eval[\"quantityInStock\"] > 0)\n",
        "]\n",
        "\n",
        "print(\"🛑 Drop candidate products:\")\n",
        "print(drop_candidates[[\"productCode\", \"productLine\", \"quantityInStock\", \"totalOrdered\"]])\n"
      ],
      "metadata": {
        "colab": {
          "base_uri": "https://localhost:8080/"
        },
        "id": "Ugo6qzaxEhrZ",
        "outputId": "1fda5967-a3d7-4828-fe9f-b48e099710ff"
      },
      "execution_count": null,
      "outputs": [
        {
          "output_type": "stream",
          "name": "stdout",
          "text": [
            "🛑 Drop candidate products:\n",
            "   productCode   productLine  quantityInStock  totalOrdered\n",
            "0     S10_1678   Motorcycles             7933        1057.0\n",
            "1     S10_1949  Classic Cars             7305         961.0\n",
            "2     S10_2016   Motorcycles             6625         999.0\n",
            "3     S10_4698   Motorcycles             5582         985.0\n",
            "4     S10_4757  Classic Cars             3252        1030.0\n",
            "..         ...           ...              ...           ...\n",
            "79    S24_3969  Vintage Cars             2081         824.0\n",
            "80    S24_4048  Classic Cars             6582         867.0\n",
            "81    S24_4258  Vintage Cars             4710         983.0\n",
            "82    S24_4278        Planes             2756        1009.0\n",
            "83    S24_4620  Classic Cars             7869         941.0\n",
            "\n",
            "[83 rows x 4 columns]\n"
          ]
        }
      ]
    }
  ]
}